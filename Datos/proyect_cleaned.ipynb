{
 "cells": [
  {
   "cell_type": "markdown",
   "metadata": {},
   "source": [
    "# **Proyecto 1: Obtención y Limpieza de los datos**\n",
    "- Brandon Sicay 21757\n",
    "- Daniel Morales 21785\n",
    "- Diana Fernández 21747\n",
    "- Jennifer Toxcón 21276"
   ]
  },
  {
   "cell_type": "markdown",
   "metadata": {},
   "source": [
    "### **1. Descarga de datos**"
   ]
  },
  {
   "cell_type": "code",
   "execution_count": null,
   "metadata": {},
   "outputs": [
    {
     "ename": "ModuleNotFoundError",
     "evalue": "No module named 'pandas'",
     "output_type": "error",
     "traceback": [
      "\u001b[0;31m---------------------------------------------------------------------------\u001b[0m",
      "\u001b[0;31mModuleNotFoundError\u001b[0m                       Traceback (most recent call last)",
      "Cell \u001b[0;32mIn[8], line 1\u001b[0m\n\u001b[0;32m----> 1\u001b[0m \u001b[38;5;28;01mimport\u001b[39;00m \u001b[38;5;21;01mpandas\u001b[39;00m \u001b[38;5;28;01mas\u001b[39;00m \u001b[38;5;21;01mpd\u001b[39;00m\n\u001b[1;32m      2\u001b[0m \u001b[38;5;28;01mimport\u001b[39;00m \u001b[38;5;21;01mre\u001b[39;00m\n\u001b[1;32m      3\u001b[0m \u001b[38;5;28;01mfrom\u001b[39;00m \u001b[38;5;21;01munidecode\u001b[39;00m \u001b[38;5;28;01mimport\u001b[39;00m unidecode  \n",
      "\u001b[0;31mModuleNotFoundError\u001b[0m: No module named 'pandas'"
     ]
    }
   ],
   "source": [
    "import pandas as pd\n",
    "import re\n",
    "from unidecode import unidecode  \n",
    "import numpy as np\n",
    "from difflib import SequenceMatcher\n",
    "import ast \n"
   ]
  },
  {
   "cell_type": "code",
   "execution_count": null,
   "metadata": {},
   "outputs": [],
   "source": [
    "alta_verapaz_diversificado = pd.read_csv('Diversificado/alta_verapaz_diversificado.csv',encoding='utf-8',sep=';',na_values='')\n",
    "baja_verapaz_diversificado = pd.read_csv('Diversificado/baja_verapaz_diversificado.csv',encoding='utf-8',sep=';',na_values='')\n",
    "capital_diversificado = pd.read_csv('Diversificado/capital_diversificado.csv',encoding='utf-8',sep=';',na_values='')\n",
    "chimaltenango_diversificado = pd.read_csv('Diversificado/chimaltenango_diversificado.csv',encoding='utf-8',sep=';',na_values='')\n",
    "chiquimula_diversificado = pd.read_csv('Diversificado/chiquimula_diversificado.csv',encoding='utf-8',sep=';',na_values='')\n",
    "escuintla_diversificado = pd.read_csv('Diversificado/escuintla_diversificado.csv',encoding='utf-8',sep=';',na_values='')\n",
    "guatemala_diversificado = pd.read_csv('Diversificado/guatemala_diversificado.csv',encoding='utf-8',sep=';',na_values='')\n",
    "huehuetenango_diversificado = pd.read_csv('Diversificado/huehuetenango_diversificado.csv',encoding='utf-8',sep=';',na_values='')\n",
    "izabal_diversificado = pd.read_csv('Diversificado/izabal_diversificado.csv',encoding='utf-8',sep=';',na_values='')\n",
    "jalapa_diversificado = pd.read_csv('Diversificado/jalapa_diversificado.csv',encoding='utf-8',sep=';',na_values='')\n",
    "jutiapa_diversificado = pd.read_csv('Diversificado/jutiapa_diversificado.csv',encoding='utf-8',sep=';',na_values='')\n",
    "peten_diversificado = pd.read_csv('Diversificado/peten_diversificado.csv',encoding='utf-8',sep=';',na_values='')\n",
    "progreso_diversificado = pd.read_csv('Diversificado/progreso_diversificado.csv',encoding='utf-8',sep=';',na_values='')\n",
    "quetzaltenango_diversificado = pd.read_csv('Diversificado/quetzaltenango_diversificado.csv',encoding='utf-8',sep=';',na_values='')\n",
    "quiche_diversificado = pd.read_csv('Diversificado/quiche_diversificado.csv',encoding='utf-8',sep=';',na_values='')\n",
    "retalhuleu_diversificado = pd.read_csv('Diversificado/retalhuleu_diversificado.csv',encoding='utf-8',sep=';',na_values='')\n",
    "sacatepequez_diversificado = pd.read_csv('Diversificado/sacatepequez_diversificado.csv',encoding='utf-8',sep=';',na_values='')\n",
    "san_marcos_diversificado = pd.read_csv('Diversificado/san_marcos_diversificado.csv',encoding='utf-8',sep=';',na_values='')\n",
    "santa_rosa_diversificado = pd.read_csv('Diversificado/santa_rosa_diversificado.csv',encoding='utf-8',sep=';',na_values='')\n",
    "solola_diversificado = pd.read_csv('Diversificado/solola_diversificado.csv',encoding='utf-8',sep=';',na_values='')\n",
    "suchitepequez_diversificado = pd.read_csv('Diversificado/suchitepequez_diversificado.csv',encoding='utf-8',sep=';',na_values='')\n",
    "totonicapan_diversificado = pd.read_csv('Diversificado/totonicapan_diversificado.csv',encoding='utf-8',sep=';',na_values='')\n",
    "zacapa_diversificado = pd.read_csv('Diversificado/zacapa_diversificado.csv',encoding='utf-8', sep=';',na_values='')"
   ]
  },
  {
   "cell_type": "markdown",
   "metadata": {},
   "source": []
  }
 ],
 "metadata": {
  "kernelspec": {
   "display_name": "Python 3",
   "language": "python",
   "name": "python3"
  },
  "language_info": {
   "codemirror_mode": {
    "name": "ipython",
    "version": 3
   },
   "file_extension": ".py",
   "mimetype": "text/x-python",
   "name": "python",
   "nbconvert_exporter": "python",
   "pygments_lexer": "ipython3",
   "version": "3.12.4"
  }
 },
 "nbformat": 4,
 "nbformat_minor": 2
}
